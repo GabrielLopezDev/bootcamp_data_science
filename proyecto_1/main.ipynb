{
 "cells": [
  {
   "cell_type": "code",
   "execution_count": 27,
   "outputs": [],
   "source": [
    "import pandas as pd"
   ],
   "metadata": {
    "collapsed": false,
    "pycharm": {
     "name": "#%%\n"
    }
   }
  },
  {
   "cell_type": "code",
   "execution_count": 50,
   "outputs": [
    {
     "data": {
      "text/plain": "                        name  wins  kills   kdRatio  killstreak  level  \\\n0            RggRt45#4697369     0      0  0.000000           0      1   \n1         JohniceRex#9176033     0      0  0.000000           0      1   \n2     bootybootykill#1892064     0     66  1.031250           0      9   \n3              JNaCo#5244172     3      2  0.400000           0      1   \n4      gomezyayo_007#6596687     0      2  0.200000           0      1   \n...                      ...   ...    ...       ...         ...    ...   \n1553     ImranePROPG#2085215     0     51  0.432203           0     10   \n1554      Miguel_mor#1492856     0      0  0.000000           0      1   \n1555       Trianthor#3462590     0      0  0.000000           0      1   \n1556     tinytrex594#3976133     0      0  0.000000           0      1   \n1557      TomasFJ_05#2711069     1     35  0.686275           3      5   \n\n      losses  prestige  hits  timePlayed  headshots  averageTime  gamesPlayed  \\\n0          0         0     0           0          0          0.0            0   \n1          0       110     0           7          0          7.0            0   \n2          0       110     0          32         16         32.0            0   \n3          0         0     0           3          0          3.0            0   \n4          0       110     0           5          1          5.0            0   \n...      ...       ...   ...         ...        ...          ...          ...   \n1553       0       110     0          71         11         71.0            0   \n1554       0         0     0           0          0          0.0            0   \n1555       0         0     0           0          0          0.0            0   \n1556       0         0     2           1          0          1.0            0   \n1557       1       110    17          10          6         10.0            1   \n\n      assists  misses     xp  scorePerMinute  shots  deaths  \n0           0       0      0             0.0      0       0  \n1           0       0    700             0.0      0      16  \n2           1       0  48300             0.0      0      64  \n3           0       0   1150             0.0      0       5  \n4           0       0   1000             0.0      0      10  \n...       ...     ...    ...             ...    ...     ...  \n1553        0       0  49935             0.0      0     118  \n1554        0       0      0             0.0      0       0  \n1555        0       0      0             0.0      0       0  \n1556        1       7      0            91.2      9       0  \n1557       11      63  17126            39.0     80      51  \n\n[1558 rows x 19 columns]",
      "text/html": "<div>\n<style scoped>\n    .dataframe tbody tr th:only-of-type {\n        vertical-align: middle;\n    }\n\n    .dataframe tbody tr th {\n        vertical-align: top;\n    }\n\n    .dataframe thead th {\n        text-align: right;\n    }\n</style>\n<table border=\"1\" class=\"dataframe\">\n  <thead>\n    <tr style=\"text-align: right;\">\n      <th></th>\n      <th>name</th>\n      <th>wins</th>\n      <th>kills</th>\n      <th>kdRatio</th>\n      <th>killstreak</th>\n      <th>level</th>\n      <th>losses</th>\n      <th>prestige</th>\n      <th>hits</th>\n      <th>timePlayed</th>\n      <th>headshots</th>\n      <th>averageTime</th>\n      <th>gamesPlayed</th>\n      <th>assists</th>\n      <th>misses</th>\n      <th>xp</th>\n      <th>scorePerMinute</th>\n      <th>shots</th>\n      <th>deaths</th>\n    </tr>\n  </thead>\n  <tbody>\n    <tr>\n      <th>0</th>\n      <td>RggRt45#4697369</td>\n      <td>0</td>\n      <td>0</td>\n      <td>0.000000</td>\n      <td>0</td>\n      <td>1</td>\n      <td>0</td>\n      <td>0</td>\n      <td>0</td>\n      <td>0</td>\n      <td>0</td>\n      <td>0.0</td>\n      <td>0</td>\n      <td>0</td>\n      <td>0</td>\n      <td>0</td>\n      <td>0.0</td>\n      <td>0</td>\n      <td>0</td>\n    </tr>\n    <tr>\n      <th>1</th>\n      <td>JohniceRex#9176033</td>\n      <td>0</td>\n      <td>0</td>\n      <td>0.000000</td>\n      <td>0</td>\n      <td>1</td>\n      <td>0</td>\n      <td>110</td>\n      <td>0</td>\n      <td>7</td>\n      <td>0</td>\n      <td>7.0</td>\n      <td>0</td>\n      <td>0</td>\n      <td>0</td>\n      <td>700</td>\n      <td>0.0</td>\n      <td>0</td>\n      <td>16</td>\n    </tr>\n    <tr>\n      <th>2</th>\n      <td>bootybootykill#1892064</td>\n      <td>0</td>\n      <td>66</td>\n      <td>1.031250</td>\n      <td>0</td>\n      <td>9</td>\n      <td>0</td>\n      <td>110</td>\n      <td>0</td>\n      <td>32</td>\n      <td>16</td>\n      <td>32.0</td>\n      <td>0</td>\n      <td>1</td>\n      <td>0</td>\n      <td>48300</td>\n      <td>0.0</td>\n      <td>0</td>\n      <td>64</td>\n    </tr>\n    <tr>\n      <th>3</th>\n      <td>JNaCo#5244172</td>\n      <td>3</td>\n      <td>2</td>\n      <td>0.400000</td>\n      <td>0</td>\n      <td>1</td>\n      <td>0</td>\n      <td>0</td>\n      <td>0</td>\n      <td>3</td>\n      <td>0</td>\n      <td>3.0</td>\n      <td>0</td>\n      <td>0</td>\n      <td>0</td>\n      <td>1150</td>\n      <td>0.0</td>\n      <td>0</td>\n      <td>5</td>\n    </tr>\n    <tr>\n      <th>4</th>\n      <td>gomezyayo_007#6596687</td>\n      <td>0</td>\n      <td>2</td>\n      <td>0.200000</td>\n      <td>0</td>\n      <td>1</td>\n      <td>0</td>\n      <td>110</td>\n      <td>0</td>\n      <td>5</td>\n      <td>1</td>\n      <td>5.0</td>\n      <td>0</td>\n      <td>0</td>\n      <td>0</td>\n      <td>1000</td>\n      <td>0.0</td>\n      <td>0</td>\n      <td>10</td>\n    </tr>\n    <tr>\n      <th>...</th>\n      <td>...</td>\n      <td>...</td>\n      <td>...</td>\n      <td>...</td>\n      <td>...</td>\n      <td>...</td>\n      <td>...</td>\n      <td>...</td>\n      <td>...</td>\n      <td>...</td>\n      <td>...</td>\n      <td>...</td>\n      <td>...</td>\n      <td>...</td>\n      <td>...</td>\n      <td>...</td>\n      <td>...</td>\n      <td>...</td>\n      <td>...</td>\n    </tr>\n    <tr>\n      <th>1553</th>\n      <td>ImranePROPG#2085215</td>\n      <td>0</td>\n      <td>51</td>\n      <td>0.432203</td>\n      <td>0</td>\n      <td>10</td>\n      <td>0</td>\n      <td>110</td>\n      <td>0</td>\n      <td>71</td>\n      <td>11</td>\n      <td>71.0</td>\n      <td>0</td>\n      <td>0</td>\n      <td>0</td>\n      <td>49935</td>\n      <td>0.0</td>\n      <td>0</td>\n      <td>118</td>\n    </tr>\n    <tr>\n      <th>1554</th>\n      <td>Miguel_mor#1492856</td>\n      <td>0</td>\n      <td>0</td>\n      <td>0.000000</td>\n      <td>0</td>\n      <td>1</td>\n      <td>0</td>\n      <td>0</td>\n      <td>0</td>\n      <td>0</td>\n      <td>0</td>\n      <td>0.0</td>\n      <td>0</td>\n      <td>0</td>\n      <td>0</td>\n      <td>0</td>\n      <td>0.0</td>\n      <td>0</td>\n      <td>0</td>\n    </tr>\n    <tr>\n      <th>1555</th>\n      <td>Trianthor#3462590</td>\n      <td>0</td>\n      <td>0</td>\n      <td>0.000000</td>\n      <td>0</td>\n      <td>1</td>\n      <td>0</td>\n      <td>0</td>\n      <td>0</td>\n      <td>0</td>\n      <td>0</td>\n      <td>0.0</td>\n      <td>0</td>\n      <td>0</td>\n      <td>0</td>\n      <td>0</td>\n      <td>0.0</td>\n      <td>0</td>\n      <td>0</td>\n    </tr>\n    <tr>\n      <th>1556</th>\n      <td>tinytrex594#3976133</td>\n      <td>0</td>\n      <td>0</td>\n      <td>0.000000</td>\n      <td>0</td>\n      <td>1</td>\n      <td>0</td>\n      <td>0</td>\n      <td>2</td>\n      <td>1</td>\n      <td>0</td>\n      <td>1.0</td>\n      <td>0</td>\n      <td>1</td>\n      <td>7</td>\n      <td>0</td>\n      <td>91.2</td>\n      <td>9</td>\n      <td>0</td>\n    </tr>\n    <tr>\n      <th>1557</th>\n      <td>TomasFJ_05#2711069</td>\n      <td>1</td>\n      <td>35</td>\n      <td>0.686275</td>\n      <td>3</td>\n      <td>5</td>\n      <td>1</td>\n      <td>110</td>\n      <td>17</td>\n      <td>10</td>\n      <td>6</td>\n      <td>10.0</td>\n      <td>1</td>\n      <td>11</td>\n      <td>63</td>\n      <td>17126</td>\n      <td>39.0</td>\n      <td>80</td>\n      <td>51</td>\n    </tr>\n  </tbody>\n</table>\n<p>1558 rows × 19 columns</p>\n</div>"
     },
     "execution_count": 50,
     "metadata": {},
     "output_type": "execute_result"
    }
   ],
   "source": [
    "data = pd.read_csv(\"DataSets/cod.csv\")  # https://www.kaggle.com/datasets/aishahakami/call-of-duty-players\n",
    "data"
   ],
   "metadata": {
    "collapsed": false,
    "pycharm": {
     "name": "#%%\n"
    }
   }
  },
  {
   "cell_type": "code",
   "execution_count": 54,
   "outputs": [],
   "source": [
    "data.dropna(subset=['wins', 'kdRatio', 'killstreak', 'losses', 'prestige', 'hits','averageTime', 'assists', 'misses','xp', 'scorePerMinute', 'shots', 'deaths'], inplace=True)"
   ],
   "metadata": {
    "collapsed": false,
    "pycharm": {
     "name": "#%%\n"
    }
   }
  },
  {
   "cell_type": "code",
   "execution_count": 7,
   "outputs": [
    {
     "data": {
      "text/plain": "name              0\nwins              0\nkills             0\nkdRatio           0\nkillstreak        0\nlevel             0\nlosses            0\nprestige          0\nhits              0\ntimePlayed        0\nheadshots         0\naverageTime       0\ngamesPlayed       0\nassists           0\nmisses            0\nxp                0\nscorePerMinute    0\nshots             0\ndeaths            0\ndtype: int64"
     },
     "execution_count": 7,
     "metadata": {},
     "output_type": "execute_result"
    }
   ],
   "source": [
    "data.isnull().sum() # No tiene valores nulos"
   ],
   "metadata": {
    "collapsed": false,
    "pycharm": {
     "name": "#%%\n"
    }
   }
  },
  {
   "cell_type": "code",
   "execution_count": 55,
   "outputs": [
    {
     "name": "stdout",
     "output_type": "stream",
     "text": [
      "<class 'pandas.core.frame.DataFrame'>\n",
      "RangeIndex: 1558 entries, 0 to 1557\n",
      "Data columns (total 19 columns):\n",
      " #   Column          Non-Null Count  Dtype  \n",
      "---  ------          --------------  -----  \n",
      " 0   name            1558 non-null   object \n",
      " 1   wins            1558 non-null   int64  \n",
      " 2   kills           1558 non-null   int64  \n",
      " 3   kdRatio         1558 non-null   float64\n",
      " 4   killstreak      1558 non-null   int64  \n",
      " 5   level           1558 non-null   int64  \n",
      " 6   losses          1558 non-null   int64  \n",
      " 7   prestige        1558 non-null   int64  \n",
      " 8   hits            1558 non-null   int64  \n",
      " 9   timePlayed      1558 non-null   int64  \n",
      " 10  headshots       1558 non-null   int64  \n",
      " 11  averageTime     1558 non-null   float64\n",
      " 12  gamesPlayed     1558 non-null   int64  \n",
      " 13  assists         1558 non-null   int64  \n",
      " 14  misses          1558 non-null   int64  \n",
      " 15  xp              1558 non-null   int64  \n",
      " 16  scorePerMinute  1558 non-null   float64\n",
      " 17  shots           1558 non-null   int64  \n",
      " 18  deaths          1558 non-null   int64  \n",
      "dtypes: float64(3), int64(15), object(1)\n",
      "memory usage: 231.4+ KB\n"
     ]
    }
   ],
   "source": [
    "data.info() # El DataSet esta limpio"
   ],
   "metadata": {
    "collapsed": false,
    "pycharm": {
     "name": "#%%\n"
    }
   }
  },
  {
   "cell_type": "code",
   "execution_count": 17,
   "outputs": [
    {
     "data": {
      "text/plain": "44.41463414634146"
     },
     "execution_count": 17,
     "metadata": {},
     "output_type": "execute_result"
    }
   ],
   "source": [
    "data[\"level\"].mean() # El nivel promedio"
   ],
   "metadata": {
    "collapsed": false,
    "pycharm": {
     "name": "#%%\n"
    }
   }
  },
  {
   "cell_type": "code",
   "execution_count": 60,
   "outputs": [
    {
     "data": {
      "text/plain": "425.91591784338897"
     },
     "execution_count": 60,
     "metadata": {},
     "output_type": "execute_result"
    }
   ],
   "source": [
    "data.timePlayed.mean()"
   ],
   "metadata": {
    "collapsed": false,
    "pycharm": {
     "name": "#%%\n"
    }
   }
  },
  {
   "cell_type": "code",
   "execution_count": 61,
   "outputs": [
    {
     "data": {
      "text/plain": "0.50      51.00\n0.75     485.50\n0.95    2115.05\nName: timePlayed, dtype: float64"
     },
     "execution_count": 61,
     "metadata": {},
     "output_type": "execute_result"
    }
   ],
   "source": [
    "data['timePlayed'].quantile([0.5, 0.75,0.95])"
   ],
   "metadata": {
    "collapsed": false,
    "pycharm": {
     "name": "#%%\n"
    }
   }
  },
  {
   "cell_type": "code",
   "execution_count": 30,
   "outputs": [
    {
     "data": {
      "text/plain": "<AxesSubplot:>"
     },
     "execution_count": 30,
     "metadata": {},
     "output_type": "execute_result"
    },
    {
     "data": {
      "text/plain": "<Figure size 432x288 with 1 Axes>",
      "image/png": "[encoded data removed]"
     },
     "metadata": {
      "needs_background": "light"
     },
     "output_type": "display_data"
    }
   ],
   "source": [
    "data['timePlayed'].plot.box()"
   ],
   "metadata": {
    "collapsed": false,
    "pycharm": {
     "name": "#%%\n"
    }
   }
  },
  {
   "cell_type": "code",
   "execution_count": 34,
   "outputs": [
    {
     "data": {
      "text/plain": "0.50      32.00\n0.75     602.75\n0.95    3453.75\nName: headshots, dtype: float64"
     },
     "execution_count": 34,
     "metadata": {},
     "output_type": "execute_result"
    }
   ],
   "source": [
    "data['headshots'].quantile([0.5, 0.75,0.95])"
   ],
   "metadata": {
    "collapsed": false,
    "pycharm": {
     "name": "#%%\n"
    }
   }
  },
  {
   "cell_type": "code",
   "execution_count": 71,
   "outputs": [
    {
     "data": {
      "text/plain": "191.5"
     },
     "execution_count": 71,
     "metadata": {},
     "output_type": "execute_result"
    }
   ],
   "source": [
    "data.kills.median()"
   ],
   "metadata": {
    "collapsed": false,
    "pycharm": {
     "name": "#%%\n"
    }
   }
  },
  {
   "cell_type": "code",
   "execution_count": 73,
   "outputs": [
    {
     "data": {
      "text/plain": "7929.696675054967"
     },
     "execution_count": 73,
     "metadata": {},
     "output_type": "execute_result"
    }
   ],
   "source": [
    "data.kills.std()"
   ],
   "metadata": {
    "collapsed": false,
    "pycharm": {
     "name": "#%%\n"
    }
   }
  },
  {
   "cell_type": "code",
   "execution_count": null,
   "outputs": [],
   "source": [],
   "metadata": {
    "collapsed": false,
    "pycharm": {
     "name": "#%%\n"
    }
   }
  }
 ],
 "metadata": {
  "kernelspec": {
   "display_name": "Python 3",
   "language": "python",
   "name": "python3"
  },
  "language_info": {
   "codemirror_mode": {
    "name": "ipython",
    "version": 2
   },
   "file_extension": ".py",
   "mimetype": "text/x-python",
   "name": "python",
   "nbconvert_exporter": "python",
   "pygments_lexer": "ipython2",
   "version": "2.7.6"
  }
 },
 "nbformat": 4,
 "nbformat_minor": 0
}